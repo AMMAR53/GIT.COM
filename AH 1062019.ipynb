{
 "cells": [
  {
   "cell_type": "code",
   "execution_count": 13,
   "metadata": {},
   "outputs": [],
   "source": [
    "students=[\"ali\", \"aamir\",\"ammar\"]"
   ]
  },
  {
   "cell_type": "code",
   "execution_count": 2,
   "metadata": {},
   "outputs": [
    {
     "name": "stdout",
     "output_type": "stream",
     "text": [
      "['ali', 'aamir', 'ammar']\n"
     ]
    }
   ],
   "source": [
    "print(students)"
   ]
  },
  {
   "cell_type": "code",
   "execution_count": 4,
   "metadata": {
    "scrolled": true
   },
   "outputs": [
    {
     "name": "stdout",
     "output_type": "stream",
     "text": [
      "ali\n",
      "aamir\n",
      "ammar\n"
     ]
    }
   ],
   "source": [
    "for student in students:\n",
    "    print(student)"
   ]
  },
  {
   "cell_type": "code",
   "execution_count": 5,
   "metadata": {},
   "outputs": [
    {
     "name": "stdout",
     "output_type": "stream",
     "text": [
      "ali chal nikal\n",
      "aamir bahar nikal\n",
      "ammar bahar nikal\n"
     ]
    }
   ],
   "source": [
    "for student in students:\n",
    "    if student==\"ali\":\n",
    "        print(f\"{student} chal nikal\")\n",
    "    else:\n",
    "        print(f\"{student} bahar nikal\")"
   ]
  },
  {
   "cell_type": "code",
   "execution_count": 7,
   "metadata": {},
   "outputs": [
    {
     "name": "stdout",
     "output_type": "stream",
     "text": [
      "p a k i s t a n "
     ]
    }
   ],
   "source": [
    "for a in \"pakistan\":\n",
    "    print(a, end=\" \")\n",
    "    "
   ]
  },
  {
   "cell_type": "code",
   "execution_count": 8,
   "metadata": {},
   "outputs": [
    {
     "name": "stdout",
     "output_type": "stream",
     "text": [
      "0 1 2 3 4 5 6 7 8 9 10 11 12 13 14 15 16 17 18 19 20 21 22 23 24 25 26 27 28 29 30 31 32 33 34 35 36 37 38 39 40 41 42 43 44 45 46 47 48 49 50 51 52 53 54 55 56 57 58 59 60 61 62 63 64 65 66 67 68 69 70 71 72 73 74 75 76 77 78 79 80 81 82 83 84 85 86 87 88 89 90 91 92 93 94 95 96 97 98 99 "
     ]
    }
   ],
   "source": [
    "for num in range(100):\n",
    "    print(num , end =\" \")"
   ]
  },
  {
   "cell_type": "code",
   "execution_count": 10,
   "metadata": {},
   "outputs": [
    {
     "name": "stdout",
     "output_type": "stream",
     "text": [
      "20 21 22 23 24 25 26 27 28 29 30 31 32 33 34 35 36 37 38 39 40 41 42 43 44 45 46 47 48 49 50 51 52 53 54 55 56 57 58 59 60 61 62 63 64 65 66 67 68 69 70 71 72 73 74 75 76 77 78 79 80 81 82 83 84 85 86 87 88 89 90 91 92 93 94 95 96 97 98 99 "
     ]
    }
   ],
   "source": [
    "for num in range(20, 100):\n",
    "    print(num , end =\" \")"
   ]
  },
  {
   "cell_type": "code",
   "execution_count": 12,
   "metadata": {},
   "outputs": [
    {
     "name": "stdout",
     "output_type": "stream",
     "text": [
      "please input table number76\n",
      "76 * 1 = 76\n",
      "76 * 2 = 152\n",
      "76 * 3 = 228\n",
      "76 * 4 = 304\n",
      "76 * 5 = 380\n",
      "76 * 6 = 456\n",
      "76 * 7 = 532\n",
      "76 * 8 = 608\n",
      "76 * 9 = 684\n",
      "76 * 10 = 760\n",
      "76 * 11 = 836\n",
      "76 * 12 = 912\n",
      "76 * 13 = 988\n",
      "76 * 14 = 1064\n",
      "76 * 15 = 1140\n",
      "76 * 16 = 1216\n",
      "76 * 17 = 1292\n",
      "76 * 18 = 1368\n",
      "76 * 19 = 1444\n",
      "76 * 20 = 1520\n",
      "76 * 21 = 1596\n",
      "76 * 22 = 1672\n",
      "76 * 23 = 1748\n",
      "76 * 24 = 1824\n",
      "76 * 25 = 1900\n",
      "76 * 26 = 1976\n",
      "76 * 27 = 2052\n",
      "76 * 28 = 2128\n",
      "76 * 29 = 2204\n",
      "76 * 30 = 2280\n",
      "76 * 31 = 2356\n",
      "76 * 32 = 2432\n",
      "76 * 33 = 2508\n",
      "76 * 34 = 2584\n",
      "76 * 35 = 2660\n",
      "76 * 36 = 2736\n",
      "76 * 37 = 2812\n",
      "76 * 38 = 2888\n",
      "76 * 39 = 2964\n",
      "76 * 40 = 3040\n",
      "76 * 41 = 3116\n",
      "76 * 42 = 3192\n",
      "76 * 43 = 3268\n",
      "76 * 44 = 3344\n",
      "76 * 45 = 3420\n",
      "76 * 46 = 3496\n",
      "76 * 47 = 3572\n",
      "76 * 48 = 3648\n",
      "76 * 49 = 3724\n",
      "76 * 50 = 3800\n",
      "76 * 51 = 3876\n",
      "76 * 52 = 3952\n",
      "76 * 53 = 4028\n",
      "76 * 54 = 4104\n",
      "76 * 55 = 4180\n",
      "76 * 56 = 4256\n",
      "76 * 57 = 4332\n",
      "76 * 58 = 4408\n",
      "76 * 59 = 4484\n",
      "76 * 60 = 4560\n",
      "76 * 61 = 4636\n",
      "76 * 62 = 4712\n",
      "76 * 63 = 4788\n",
      "76 * 64 = 4864\n",
      "76 * 65 = 4940\n",
      "76 * 66 = 5016\n",
      "76 * 67 = 5092\n",
      "76 * 68 = 5168\n",
      "76 * 69 = 5244\n",
      "76 * 70 = 5320\n",
      "76 * 71 = 5396\n",
      "76 * 72 = 5472\n",
      "76 * 73 = 5548\n",
      "76 * 74 = 5624\n",
      "76 * 75 = 5700\n",
      "76 * 76 = 5776\n",
      "76 * 77 = 5852\n",
      "76 * 78 = 5928\n",
      "76 * 79 = 6004\n",
      "76 * 80 = 6080\n",
      "76 * 81 = 6156\n",
      "76 * 82 = 6232\n",
      "76 * 83 = 6308\n",
      "76 * 84 = 6384\n",
      "76 * 85 = 6460\n",
      "76 * 86 = 6536\n",
      "76 * 87 = 6612\n",
      "76 * 88 = 6688\n",
      "76 * 89 = 6764\n",
      "76 * 90 = 6840\n",
      "76 * 91 = 6916\n",
      "76 * 92 = 6992\n",
      "76 * 93 = 7068\n",
      "76 * 94 = 7144\n",
      "76 * 95 = 7220\n",
      "76 * 96 = 7296\n",
      "76 * 97 = 7372\n",
      "76 * 98 = 7448\n",
      "76 * 99 = 7524\n"
     ]
    }
   ],
   "source": [
    "tableNum = int(input(\"please input table number\"))\n",
    "\n",
    "for num in range (1,100):\n",
    "    print(f\"{tableNum} * {num} = {tableNum * num}\")"
   ]
  },
  {
   "cell_type": "code",
   "execution_count": 20,
   "metadata": {},
   "outputs": [
    {
     "name": "stdout",
     "output_type": "stream",
     "text": [
      "0 2 4 6 8 10 12 14 16 18 20 22 24 26 28 30 32 34 36 38 40 42 44 46 48 50 52 54 56 58 60 62 64 66 68 70 72 74 76 78 80 82 84 86 88 90 92 94 96 98 100 102 104 106 108 110 112 114 116 118 120 122 124 126 128 130 132 134 136 138 140 142 144 146 148 150 152 154 156 158 160 162 164 166 168 170 172 174 176 178 180 182 184 186 188 190 192 194 196 198 200 202 204 206 208 210 212 214 216 218 220 222 224 226 228 230 232 234 236 238 240 242 244 246 248 250 252 254 "
     ]
    }
   ],
   "source": [
    "for num in range(0,255,2): # for even\n",
    "    print(num , end =\" \")"
   ]
  },
  {
   "cell_type": "code",
   "execution_count": 19,
   "metadata": {},
   "outputs": [
    {
     "name": "stdout",
     "output_type": "stream",
     "text": [
      "1 3 5 7 9 11 13 15 17 19 21 23 25 27 29 31 33 35 37 39 41 43 45 47 49 51 53 55 57 59 61 63 65 67 69 71 73 75 77 79 81 83 85 87 89 91 93 95 97 99 101 103 105 107 109 111 113 115 117 119 121 123 125 127 129 131 133 135 137 139 141 143 145 147 149 151 153 155 157 159 161 163 165 167 169 171 173 175 177 179 181 183 185 187 189 191 193 195 197 199 201 203 205 207 209 211 213 215 217 219 221 223 225 227 229 231 233 235 237 239 241 243 245 247 249 "
     ]
    }
   ],
   "source": [
    "for num in range(1,250,2): #for odd \n",
    "    print(num , end =\" \")"
   ]
  },
  {
   "cell_type": "code",
   "execution_count": 18,
   "metadata": {},
   "outputs": [
    {
     "name": "stdout",
     "output_type": "stream",
     "text": [
      "125 124 123 122 121 120 119 118 117 116 115 114 113 112 111 110 109 108 107 106 105 104 103 102 101 100 99 98 97 96 95 94 93 92 91 90 89 88 87 86 85 84 83 82 81 80 79 78 77 76 75 74 73 72 71 70 69 68 67 66 65 64 63 62 61 60 59 58 57 56 55 54 53 52 51 50 49 48 47 46 45 44 43 42 41 40 39 38 37 36 35 34 33 32 31 30 29 28 27 26 25 24 23 22 21 20 19 18 17 16 15 14 13 12 11 10 9 8 7 6 5 4 3 2 1 "
     ]
    }
   ],
   "source": [
    "for num in range(125,0,-1): #for integers\n",
    "    print(num , end =\" \")"
   ]
  },
  {
   "cell_type": "code",
   "execution_count": 2,
   "metadata": {},
   "outputs": [
    {
     "name": "stdout",
     "output_type": "stream",
     "text": [
      "please input table number: 2\n",
      "2 * 1 = 2\n",
      "2 * 3 = 6\n",
      "2 * 5 = 10\n",
      "2 * 7 = 14\n",
      "2 * 9 = 18\n"
     ]
    }
   ],
   "source": [
    "tableNum = int(input(\"please input table number: \"))\n",
    "\n",
    "for num in range (1, 10):\n",
    "    if num % 2 == 0:\n",
    "        continue\n",
    "    else:   \n",
    "         print(f\"{tableNum} * {num} = {tableNum * num}\")"
   ]
  },
  {
   "cell_type": "code",
   "execution_count": 1,
   "metadata": {},
   "outputs": [
    {
     "name": "stdout",
     "output_type": "stream",
     "text": [
      "please input table number: 4\n",
      "4 * 1 = 4\n"
     ]
    }
   ],
   "source": [
    "tableNum = int(input(\"please input table number: \"))\n",
    "\n",
    "for num in range (1, 10):\n",
    "    if num % 2 == 0:\n",
    "        break\n",
    "    else:   \n",
    "        print(f\"{tableNum} * {num} = {tableNum * num}\")"
   ]
  },
  {
   "cell_type": "code",
   "execution_count": 3,
   "metadata": {},
   "outputs": [
    {
     "name": "stdout",
     "output_type": "stream",
     "text": [
      "please input table number: 6\n",
      "6 * 1 = 6\n",
      "6 * 3 = 18\n",
      "6 * 5 = 30\n",
      "6 * 7 = 42\n",
      "6 * 9 = 54\n"
     ]
    }
   ],
   "source": [
    "tableNum = int(input(\"please input table number: \"))\n",
    "\n",
    "for num in range (1, 10):\n",
    "    if num % 2 == 0:\n",
    "        continue\n",
    "    else:   \n",
    "        print(f\"{tableNum} * {num} = {tableNum * num}\")"
   ]
  },
  {
   "cell_type": "code",
   "execution_count": 6,
   "metadata": {},
   "outputs": [
    {
     "name": "stdout",
     "output_type": "stream",
     "text": [
      "Enter your friend name: ali\n",
      "Enter your friend name: aaliya \n",
      "Enter your friend name: dadda\n",
      "Enter your friend name: patan\n",
      "Enter your friend name: choona\n",
      "Enter your friend name: aleena\n",
      "Enter your friend name: aani\n",
      "Enter your friend name: ddda\n",
      "Enter your friend name: baabb\n",
      "Enter your friend name: baap\n"
     ]
    },
    {
     "data": {
      "text/plain": [
       "[]"
      ]
     },
     "execution_count": 6,
     "metadata": {},
     "output_type": "execute_result"
    }
   ],
   "source": [
    "Best_friend = []\n",
    "friend = []\n",
    "\n",
    "\n",
    "for num in range (10):\n",
    "    name = input(\"Enter your friend name: \")\n",
    "    if name.startswith == (\"a\"): \n",
    "        Best_friend.append(name)\n",
    "Best_friend        \n",
    "        "
   ]
  },
  {
   "cell_type": "markdown",
   "metadata": {},
   "source": [
    "# nested for loop\n"
   ]
  },
  {
   "cell_type": "code",
   "execution_count": 7,
   "metadata": {},
   "outputs": [
    {
     "name": "stdout",
     "output_type": "stream",
     "text": [
      "1 a\n",
      "1 l\n",
      "1 i\n",
      "1 y\n",
      "1 a\n",
      "2 a\n",
      "2 l\n",
      "2 i\n",
      "2 y\n",
      "2 a\n",
      "3 a\n",
      "3 l\n",
      "3 i\n",
      "3 y\n",
      "3 a\n",
      "4 a\n",
      "4 l\n",
      "4 i\n",
      "4 y\n",
      "4 a\n",
      "5 a\n",
      "5 l\n",
      "5 i\n",
      "5 y\n",
      "5 a\n"
     ]
    }
   ],
   "source": [
    "for a in [1,2,3,4,5]:\n",
    "    for b in 'aliya':\n",
    "        print(a,b)"
   ]
  },
  {
   "cell_type": "code",
   "execution_count": 11,
   "metadata": {},
   "outputs": [
    {
     "name": "stdout",
     "output_type": "stream",
     "text": [
      "please input table number10\n",
      "10 * 1 = 10\n",
      "10 * 2 = 20\n",
      "10 * 3 = 30\n",
      "10 * 4 = 40\n",
      "10 * 5 = 50\n",
      "10 * 6 = 60\n",
      "10 * 7 = 70\n",
      "10 * 8 = 80\n",
      "10 * 9 = 90\n",
      "1 1\n",
      "1 ,\n",
      "1 2\n",
      "1 ,\n",
      "1 3\n",
      "1 ,\n",
      "1 4\n",
      "1 ,\n",
      "1 5\n",
      "1 ,\n",
      "1 6\n",
      "1 ,\n",
      "1 7\n",
      "1 ,\n",
      "1 8\n",
      "1 ,\n",
      "1 9\n",
      "1 ,\n",
      "1 1\n",
      "1 0\n",
      "2 1\n",
      "2 ,\n",
      "2 2\n",
      "2 ,\n",
      "2 3\n",
      "2 ,\n",
      "2 4\n",
      "2 ,\n",
      "2 5\n",
      "2 ,\n",
      "2 6\n",
      "2 ,\n",
      "2 7\n",
      "2 ,\n",
      "2 8\n",
      "2 ,\n",
      "2 9\n",
      "2 ,\n",
      "2 1\n",
      "2 0\n",
      "3 1\n",
      "3 ,\n",
      "3 2\n",
      "3 ,\n",
      "3 3\n",
      "3 ,\n",
      "3 4\n",
      "3 ,\n",
      "3 5\n",
      "3 ,\n",
      "3 6\n",
      "3 ,\n",
      "3 7\n",
      "3 ,\n",
      "3 8\n",
      "3 ,\n",
      "3 9\n",
      "3 ,\n",
      "3 1\n",
      "3 0\n",
      "4 1\n",
      "4 ,\n",
      "4 2\n",
      "4 ,\n",
      "4 3\n",
      "4 ,\n",
      "4 4\n",
      "4 ,\n",
      "4 5\n",
      "4 ,\n",
      "4 6\n",
      "4 ,\n",
      "4 7\n",
      "4 ,\n",
      "4 8\n",
      "4 ,\n",
      "4 9\n",
      "4 ,\n",
      "4 1\n",
      "4 0\n",
      "5 1\n",
      "5 ,\n",
      "5 2\n",
      "5 ,\n",
      "5 3\n",
      "5 ,\n",
      "5 4\n",
      "5 ,\n",
      "5 5\n",
      "5 ,\n",
      "5 6\n",
      "5 ,\n",
      "5 7\n",
      "5 ,\n",
      "5 8\n",
      "5 ,\n",
      "5 9\n",
      "5 ,\n",
      "5 1\n",
      "5 0\n",
      "6 1\n",
      "6 ,\n",
      "6 2\n",
      "6 ,\n",
      "6 3\n",
      "6 ,\n",
      "6 4\n",
      "6 ,\n",
      "6 5\n",
      "6 ,\n",
      "6 6\n",
      "6 ,\n",
      "6 7\n",
      "6 ,\n",
      "6 8\n",
      "6 ,\n",
      "6 9\n",
      "6 ,\n",
      "6 1\n",
      "6 0\n",
      "7 1\n",
      "7 ,\n",
      "7 2\n",
      "7 ,\n",
      "7 3\n",
      "7 ,\n",
      "7 4\n",
      "7 ,\n",
      "7 5\n",
      "7 ,\n",
      "7 6\n",
      "7 ,\n",
      "7 7\n",
      "7 ,\n",
      "7 8\n",
      "7 ,\n",
      "7 9\n",
      "7 ,\n",
      "7 1\n",
      "7 0\n",
      "8 1\n",
      "8 ,\n",
      "8 2\n",
      "8 ,\n",
      "8 3\n",
      "8 ,\n",
      "8 4\n",
      "8 ,\n",
      "8 5\n",
      "8 ,\n",
      "8 6\n",
      "8 ,\n",
      "8 7\n",
      "8 ,\n",
      "8 8\n",
      "8 ,\n",
      "8 9\n",
      "8 ,\n",
      "8 1\n",
      "8 0\n",
      "9 1\n",
      "9 ,\n",
      "9 2\n",
      "9 ,\n",
      "9 3\n",
      "9 ,\n",
      "9 4\n",
      "9 ,\n",
      "9 5\n",
      "9 ,\n",
      "9 6\n",
      "9 ,\n",
      "9 7\n",
      "9 ,\n",
      "9 8\n",
      "9 ,\n",
      "9 9\n",
      "9 ,\n",
      "9 1\n",
      "9 0\n",
      "10 1\n",
      "10 ,\n",
      "10 2\n",
      "10 ,\n",
      "10 3\n",
      "10 ,\n",
      "10 4\n",
      "10 ,\n",
      "10 5\n",
      "10 ,\n",
      "10 6\n",
      "10 ,\n",
      "10 7\n",
      "10 ,\n",
      "10 8\n",
      "10 ,\n",
      "10 9\n",
      "10 ,\n",
      "10 1\n",
      "10 0\n"
     ]
    }
   ],
   "source": [
    "tableNum = int(input(\"please input table number\"))\n",
    "\n",
    "for num in range (1,10):\n",
    "    print(f\"{tableNum} * {num} = {tableNum * num}\")\n",
    "for a in [1,2,3,4,5,6,7,8,9,10]:\n",
    "    for b in '1,2,3,4,5,6,7,8,9,10':\n",
    "        print(a,b)\n"
   ]
  },
  {
   "cell_type": "code",
   "execution_count": 19,
   "metadata": {},
   "outputs": [
    {
     "name": "stdout",
     "output_type": "stream",
     "text": [
      "------------\n",
      "0 * 1 = 0\n",
      "0 * 2 = 0\n",
      "0 * 3 = 0\n",
      "0 * 4 = 0\n",
      "0 * 5 = 0\n",
      "0 * 6 = 0\n",
      "0 * 7 = 0\n",
      "0 * 8 = 0\n",
      "0 * 9 = 0\n",
      "0 * 10 = 0\n",
      "------------\n",
      "1 * 1 = 1\n",
      "1 * 2 = 2\n",
      "1 * 3 = 3\n",
      "1 * 4 = 4\n",
      "1 * 5 = 5\n",
      "1 * 6 = 6\n",
      "1 * 7 = 7\n",
      "1 * 8 = 8\n",
      "1 * 9 = 9\n",
      "1 * 10 = 10\n",
      "------------\n",
      "2 * 1 = 2\n",
      "2 * 2 = 4\n",
      "2 * 3 = 6\n",
      "2 * 4 = 8\n",
      "2 * 5 = 10\n",
      "2 * 6 = 12\n",
      "2 * 7 = 14\n",
      "2 * 8 = 16\n",
      "2 * 9 = 18\n",
      "2 * 10 = 20\n",
      "------------\n",
      "3 * 1 = 3\n",
      "3 * 2 = 6\n",
      "3 * 3 = 9\n",
      "3 * 4 = 12\n",
      "3 * 5 = 15\n",
      "3 * 6 = 18\n",
      "3 * 7 = 21\n",
      "3 * 8 = 24\n",
      "3 * 9 = 27\n",
      "3 * 10 = 30\n",
      "------------\n",
      "4 * 1 = 4\n",
      "4 * 2 = 8\n",
      "4 * 3 = 12\n",
      "4 * 4 = 16\n",
      "4 * 5 = 20\n",
      "4 * 6 = 24\n",
      "4 * 7 = 28\n",
      "4 * 8 = 32\n",
      "4 * 9 = 36\n",
      "4 * 10 = 40\n",
      "------------\n",
      "5 * 1 = 5\n",
      "5 * 2 = 10\n",
      "5 * 3 = 15\n",
      "5 * 4 = 20\n",
      "5 * 5 = 25\n",
      "5 * 6 = 30\n",
      "5 * 7 = 35\n",
      "5 * 8 = 40\n",
      "5 * 9 = 45\n",
      "5 * 10 = 50\n",
      "------------\n",
      "6 * 1 = 6\n",
      "6 * 2 = 12\n",
      "6 * 3 = 18\n",
      "6 * 4 = 24\n",
      "6 * 5 = 30\n",
      "6 * 6 = 36\n",
      "6 * 7 = 42\n",
      "6 * 8 = 48\n",
      "6 * 9 = 54\n",
      "6 * 10 = 60\n",
      "------------\n",
      "7 * 1 = 7\n",
      "7 * 2 = 14\n",
      "7 * 3 = 21\n",
      "7 * 4 = 28\n",
      "7 * 5 = 35\n",
      "7 * 6 = 42\n",
      "7 * 7 = 49\n",
      "7 * 8 = 56\n",
      "7 * 9 = 63\n",
      "7 * 10 = 70\n",
      "------------\n",
      "8 * 1 = 8\n",
      "8 * 2 = 16\n",
      "8 * 3 = 24\n",
      "8 * 4 = 32\n",
      "8 * 5 = 40\n",
      "8 * 6 = 48\n",
      "8 * 7 = 56\n",
      "8 * 8 = 64\n",
      "8 * 9 = 72\n",
      "8 * 10 = 80\n"
     ]
    }
   ],
   "source": [
    "for tablenum in range(0,9):\n",
    "    print (\"------------\")\n",
    "    for table in range(1,11):\n",
    "        print(f\"{tablenum} * {table} = {tablenum * table}\")"
   ]
  },
  {
   "cell_type": "markdown",
   "metadata": {},
   "source": [
    "# list comprehension\n"
   ]
  },
  {
   "cell_type": "code",
   "execution_count": 21,
   "metadata": {},
   "outputs": [
    {
     "data": {
      "text/plain": [
       "[1, 4, 9, 16, 25, 36, 49, 64, 81]"
      ]
     },
     "execution_count": 21,
     "metadata": {},
     "output_type": "execute_result"
    }
   ],
   "source": [
    "a=[1,2,3,4,5,6,7,8,9]\n",
    "squares=[]\n",
    "for num in a:\n",
    "    squares.append(num**2)\n",
    "squares   "
   ]
  },
  {
   "cell_type": "code",
   "execution_count": 23,
   "metadata": {},
   "outputs": [
    {
     "data": {
      "text/plain": [
       "[1, 4, 9, 16, 25, 36, 49, 64, 81]"
      ]
     },
     "execution_count": 23,
     "metadata": {},
     "output_type": "execute_result"
    }
   ],
   "source": [
    "[ num**2 for num in range(1,10)]"
   ]
  },
  {
   "cell_type": "code",
   "execution_count": 24,
   "metadata": {},
   "outputs": [
    {
     "data": {
      "text/plain": [
       "[25, 36, 49, 64, 81]"
      ]
     },
     "execution_count": 24,
     "metadata": {},
     "output_type": "execute_result"
    }
   ],
   "source": [
    "[ num**2 for num in range(1,10) if num>4]"
   ]
  },
  {
   "cell_type": "code",
   "execution_count": null,
   "metadata": {},
   "outputs": [],
   "source": []
  },
  {
   "cell_type": "code",
   "execution_count": null,
   "metadata": {},
   "outputs": [],
   "source": []
  }
 ],
 "metadata": {
  "kernelspec": {
   "display_name": "Python 3",
   "language": "python",
   "name": "python3"
  },
  "language_info": {
   "codemirror_mode": {
    "name": "ipython",
    "version": 3
   },
   "file_extension": ".py",
   "mimetype": "text/x-python",
   "name": "python",
   "nbconvert_exporter": "python",
   "pygments_lexer": "ipython3",
   "version": "3.7.3"
  }
 },
 "nbformat": 4,
 "nbformat_minor": 2
}
