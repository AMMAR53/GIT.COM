{
 "cells": [
  {
   "cell_type": "code",
   "execution_count": 14,
   "metadata": {},
   "outputs": [
    {
     "name": "stdout",
     "output_type": "stream",
     "text": [
      "*******************Welcome To ATM Machine*****************\n",
      "\n",
      "Do you have card: yes\n",
      "Enter your pin: 1234\n",
      "Enter your Username: minhas\n",
      "Option\n",
      "\n",
      "\n",
      "1.Balance\n",
      "2.Withderaw\n",
      "3.Deposit\n",
      "\n",
      "Enter option number: 2\n",
      "Balance is 50000\n",
      "Enter amount to withdraw: 5000\n",
      "New balance is 45000\n"
     ]
    }
   ],
   "source": [
    "print(\"*******************Welcome To ATM Machine*****************\\n\")\n",
    "card=(input(\"Do you have card: \")).lower()\n",
    "if card=='yes':\n",
    "    \n",
    "    \n",
    "    pin=int(input(\"Enter your pin: \"))\n",
    "    username=(input(\"Enter your Username: \"))\n",
    "    if pin==pin and username==username:\n",
    "        \n",
    "        print(\"Option\\n\\n\")\n",
    "        print(\"1.Balance\\n2.Withderaw\\n3.Deposit\\n\")\n",
    "        option=int(input(\"Enter option number: \"))\n",
    "        balance=50000\n",
    "        \n",
    "        if option==1:\n",
    "                print(\"Balance is\",balance)\n",
    "                \n",
    "                \n",
    "            \n",
    "        if option==2:\n",
    "                print(\"Balance is\",balance)\n",
    "                withdraw=int(input(\"Enter amount to withdraw: \"))\n",
    "                if withdraw>0 and withdraw<=balance:\n",
    "                    newbalance=(balance-withdraw)\n",
    "                    print(\"New balance is\",newbalance)\n",
    "                elif withdraw>balance:\n",
    "                    print(\"Please Enter amount according to your balance\")\n",
    "                elif withdrw==0:\n",
    "                    print(\"No withdraw has made\")\n",
    "                    \n",
    "                   \n",
    "            \n",
    "                    \n",
    "        if option==3:\n",
    "                print(\"Balance is\",balance)\n",
    "                deposit=int(input(\"Enter amount to Deposit: \"))\n",
    "                if deposit>0:\n",
    "                    newbalance=(deposit+balance)\n",
    "                    print(\"New balance is\",newbalance)\n",
    "                else:\n",
    "                    print(\"No deposit has made\")\n",
    "    \n",
    "else:\n",
    "    (\"Please bring your card\")\n"
   ]
  },
  {
   "cell_type": "code",
   "execution_count": null,
   "metadata": {},
   "outputs": [],
   "source": []
  }
 ],
 "metadata": {
  "kernelspec": {
   "display_name": "Python 3",
   "language": "python",
   "name": "python3"
  },
  "language_info": {
   "codemirror_mode": {
    "name": "ipython",
    "version": 3
   },
   "file_extension": ".py",
   "mimetype": "text/x-python",
   "name": "python",
   "nbconvert_exporter": "python",
   "pygments_lexer": "ipython3",
   "version": "3.7.3"
  }
 },
 "nbformat": 4,
 "nbformat_minor": 2
}
